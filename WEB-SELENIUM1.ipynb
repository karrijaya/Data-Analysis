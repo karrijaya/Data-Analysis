{
 "cells": [
  {
   "cell_type": "code",
   "execution_count": 3,
   "id": "663aa052",
   "metadata": {},
   "outputs": [
    {
     "name": "stdout",
     "output_type": "stream",
     "text": [
      "Requirement already satisfied: selenium in c:\\users\\user\\anaconda3\\lib\\site-packages (4.17.2)\n",
      "Requirement already satisfied: urllib3[socks]<3,>=1.26 in c:\\users\\user\\anaconda3\\lib\\site-packages (from selenium) (1.26.16)\n",
      "Requirement already satisfied: trio~=0.17 in c:\\users\\user\\anaconda3\\lib\\site-packages (from selenium) (0.24.0)\n",
      "Requirement already satisfied: trio-websocket~=0.9 in c:\\users\\user\\anaconda3\\lib\\site-packages (from selenium) (0.11.1)\n",
      "Requirement already satisfied: certifi>=2021.10.8 in c:\\users\\user\\anaconda3\\lib\\site-packages (from selenium) (2023.7.22)\n",
      "Requirement already satisfied: typing_extensions>=4.9.0 in c:\\users\\user\\anaconda3\\lib\\site-packages (from selenium) (4.9.0)\n",
      "Requirement already satisfied: attrs>=20.1.0 in c:\\users\\user\\anaconda3\\lib\\site-packages (from trio~=0.17->selenium) (22.1.0)\n",
      "Requirement already satisfied: sortedcontainers in c:\\users\\user\\anaconda3\\lib\\site-packages (from trio~=0.17->selenium) (2.4.0)\n",
      "Requirement already satisfied: idna in c:\\users\\user\\anaconda3\\lib\\site-packages (from trio~=0.17->selenium) (3.4)\n",
      "Requirement already satisfied: outcome in c:\\users\\user\\anaconda3\\lib\\site-packages (from trio~=0.17->selenium) (1.3.0.post0)\n",
      "Requirement already satisfied: sniffio>=1.3.0 in c:\\users\\user\\anaconda3\\lib\\site-packages (from trio~=0.17->selenium) (1.3.0)\n",
      "Requirement already satisfied: cffi>=1.14 in c:\\users\\user\\anaconda3\\lib\\site-packages (from trio~=0.17->selenium) (1.15.1)\n",
      "Requirement already satisfied: wsproto>=0.14 in c:\\users\\user\\anaconda3\\lib\\site-packages (from trio-websocket~=0.9->selenium) (1.2.0)\n",
      "Requirement already satisfied: PySocks!=1.5.7,<2.0,>=1.5.6 in c:\\users\\user\\anaconda3\\lib\\site-packages (from urllib3[socks]<3,>=1.26->selenium) (1.7.1)\n",
      "Requirement already satisfied: pycparser in c:\\users\\user\\anaconda3\\lib\\site-packages (from cffi>=1.14->trio~=0.17->selenium) (2.21)\n",
      "Requirement already satisfied: h11<1,>=0.9.0 in c:\\users\\user\\anaconda3\\lib\\site-packages (from wsproto>=0.14->trio-websocket~=0.9->selenium) (0.14.0)\n"
     ]
    }
   ],
   "source": [
    "!pip install selenium"
   ]
  },
  {
   "cell_type": "code",
   "execution_count": 5,
   "id": "c293cd5e",
   "metadata": {},
   "outputs": [
    {
     "name": "stdout",
     "output_type": "stream",
     "text": [
      "Requirement already satisfied: webdriver_manager in c:\\users\\user\\anaconda3\\lib\\site-packages (4.0.1)\n",
      "Requirement already satisfied: requests in c:\\users\\user\\anaconda3\\lib\\site-packages (from webdriver_manager) (2.31.0)\n",
      "Requirement already satisfied: python-dotenv in c:\\users\\user\\anaconda3\\lib\\site-packages (from webdriver_manager) (0.21.0)\n",
      "Requirement already satisfied: packaging in c:\\users\\user\\anaconda3\\lib\\site-packages (from webdriver_manager) (23.1)\n",
      "Requirement already satisfied: charset-normalizer<4,>=2 in c:\\users\\user\\anaconda3\\lib\\site-packages (from requests->webdriver_manager) (2.0.4)\n",
      "Requirement already satisfied: idna<4,>=2.5 in c:\\users\\user\\anaconda3\\lib\\site-packages (from requests->webdriver_manager) (3.4)\n",
      "Requirement already satisfied: urllib3<3,>=1.21.1 in c:\\users\\user\\anaconda3\\lib\\site-packages (from requests->webdriver_manager) (1.26.16)\n",
      "Requirement already satisfied: certifi>=2017.4.17 in c:\\users\\user\\anaconda3\\lib\\site-packages (from requests->webdriver_manager) (2023.7.22)\n"
     ]
    }
   ],
   "source": [
    "!pip install webdriver_manager"
   ]
  },
  {
   "cell_type": "code",
   "execution_count": 6,
   "id": "866fecaf",
   "metadata": {},
   "outputs": [],
   "source": [
    "import pandas as pd"
   ]
  },
  {
   "cell_type": "code",
   "execution_count": 5,
   "id": "dfafa904",
   "metadata": {},
   "outputs": [],
   "source": [
    "from selenium import webdriver\n",
    "from selenium.webdriver.chrome.options import Options\n",
    "from webdriver_manager.chrome import ChromeDriverManager\n",
    "from selenium.webdriver.common.by import By\n",
    "from selenium.webdriver.common.keys import Keys"
   ]
  },
  {
   "cell_type": "code",
   "execution_count": 12,
   "id": "0e42210d",
   "metadata": {},
   "outputs": [],
   "source": []
  },
  {
   "cell_type": "code",
   "execution_count": 21,
   "id": "7c5faa90",
   "metadata": {},
   "outputs": [
    {
     "name": "stdout",
     "output_type": "stream",
     "text": [
      "chrome\n"
     ]
    }
   ],
   "source": [
    "#define options and set broswer capabilities\n",
    "options=webdriver.ChromeOptions()\n",
    "options.add_argument(\"--some-option\")\n",
    "#create webdriver instance with options\n",
    "driver=webdriver.Chrome(options=options)\n",
    "#access browser capabilities\n",
    "browser_name=options.to_capabilities()[\"browserName\"]\n",
    "print(browser_name)"
   ]
  },
  {
   "cell_type": "code",
   "execution_count": 22,
   "id": "6d273270",
   "metadata": {},
   "outputs": [],
   "source": [
    "driver.get('https://www.amazon.in/')"
   ]
  },
  {
   "cell_type": "code",
   "execution_count": 23,
   "id": "18269029",
   "metadata": {},
   "outputs": [],
   "source": [
    "search=driver.find_element(By.ID,\"twotabsearchtextbox\")"
   ]
  },
  {
   "cell_type": "code",
   "execution_count": 24,
   "id": "aea8d6c0",
   "metadata": {},
   "outputs": [],
   "source": [
    "search=driver.find_element(By.ID,\"twotabsearchtextbox\")"
   ]
  },
  {
   "cell_type": "code",
   "execution_count": 25,
   "id": "bd3f332c",
   "metadata": {},
   "outputs": [],
   "source": [
    "search.send_keys(\"Dell laptop\")"
   ]
  },
  {
   "cell_type": "code",
   "execution_count": 26,
   "id": "50312651",
   "metadata": {},
   "outputs": [],
   "source": [
    "driver.find_element(By.ID,\"nav-search-submit-button\").click()"
   ]
  },
  {
   "cell_type": "code",
   "execution_count": 27,
   "id": "97bebcc0",
   "metadata": {},
   "outputs": [],
   "source": [
    "driver.find_element(By.XPATH,\"//span[text()='Dell']\").click()"
   ]
  },
  {
   "cell_type": "code",
   "execution_count": 29,
   "id": "8871da7c",
   "metadata": {},
   "outputs": [],
   "source": [
    "names=driver.find_elements(By.XPATH,\".//span[@class='a']\") #.//tag[@class='']"
   ]
  },
  {
   "cell_type": "markdown",
   "id": "5e5868f8",
   "metadata": {},
   "source": [
    "a-size-medium a-color-base a-text-normal"
   ]
  },
  {
   "cell_type": "code",
   "execution_count": 89,
   "id": "6a55a2c7",
   "metadata": {},
   "outputs": [],
   "source": [
    "names=driver.find_elements(By.XPATH,\".//span[@class='a-size-medium a-color-base a-text-normal']\")"
   ]
  },
  {
   "cell_type": "code",
   "execution_count": 99,
   "id": "abacb3ee",
   "metadata": {},
   "outputs": [
    {
     "name": "stdout",
     "output_type": "stream",
     "text": [
      "['Dell 15 Laptop, Intel Core i5-1135G7 Processor/16GB DDR4/512GB SSD/Intel UHD Graphic/15.6\" (39.562cm) FHD Display/Win 11+MSO\\'21/15 Month McAfee/Spill-Resistant Keyboard/Carbon/Thin & Light 1.69kg', 'Dell 14 Laptop, 12th Gen Intel Core i5-1235U Processor, 16GB, 512GB, 14.0\" (35.56cm) FHD Display, Windows 11 + MSO\\'21, Spill-Resistant Keyboard, 15 Month Mcafee, Black, Thin & Light- 1.48kg', 'Dell 14 Laptop, AMD Ryzen R5-5500U/ 8GB DDR4, 2400 MHz/ 512GB/ 14.0\" (35.56cm) FHD Display with Comfort View/Windows 11 + MSO\\'21/15 Month McAfee/Spill-Resistant Keyboard/Carbon Black/ 1.48kg', 'Dell 14 Laptop, 12th Gen Intel Core i3-1215U Processor/8GB/512GB SSD/Intel UHD Graphics/14.0\"(35.56cm) FHD/Windows 11 + MSO\\'21/15 Month McAfee/Spill-Resistant Keyboard/Grey/Thin & Light 1.48kg', 'Dell Inspiron 3520 Laptop, Intel Core i5-1235U Processor, 16GB,512GB,15.6\" (39.62cm) FHD Display, Backlit Keyboard, Win 11 + MSO\\'21,15 Month McAfee, Silver, Thin & Light-1.65kg', 'Dell 15 Laptop, Intel Core i3-1115G4, 8GB/1TB + 256GB SSD/15.6\" (39.62cm) FHD with Comfort View/Mobile Connect/Windows 11 + MSO\\'21/15 Month McAfee/Spill-Resistant Keyboard/Carbon/Thin & Light-1.69kg', 'Dell Inspiron 7430 2in1 Touch Laptop, 13th Gen Intel Core i3-1315U/8GB/1TB SSD/14.0\" (35.56cm) FHD+,16:10 Aspect Ratio/Backlit KB+FPR/Win 11+MSO\\'21/15 Months McAfee/Platinum Silver/Thin & Light-1.58kg', 'Dell 15 Laptop, Intel Core i5-1135G7 Processor/ 8GB/ 1TB+256GB SSD/15.6\"(39.62cm) FHD Display/Mobile Connect/Windows 11 + MSO\\'21/15 Month McAfee/Spill-Resistant Keyboard/Black/Thin & Light 1.69kg', 'Dell 14 Laptop, 12th Gen Intel Core i5-1235U Processor, 16GB, 512GB, 14.0\" (35.56cm) FHD Display, Windows 11 + MSO\\'21, Spill-Resistant Keyboard, 15 Month Mcafee, Black, Thin & Light- 1.48kg', 'Dell 14 Laptop, Intel Core i5-1135G7 Processor/8GB/512GB/Intel UHD Graphic/14.0\" (35.6cm) FHD with Comfort View/Spill-Resistant Keyboard/Thin & Light 1.48kg/ Win 11+ MSO\\'21/15 Month McAfee/Titan Grey', 'Dell Inspiron 3530 Laptop, 13th Gen Intel Core i5-1335U Processor/16GB/1TB SSD/15.6\" (39.62cm) FHD Display/Backlit Keyboard/Platinum Silver/Win 11 + MSO\\'21/15 Month McAfee/Thin & Light- 1.66kg', 'Dell Inspiron 7430 2in1 Touch Laptop, Intel Core i5-1335U Processor/ 16GB LP DDR5/ 1TB SSD/14.0\" (35.56cm) FHD+/ Active Pen/Win 11 + MSO\\'21/15 Month McAfee/Platinum Silver/Thin & Light- 1.58kg', 'Dell G15-5525 Gaming Laptop, AMD Ryzen 7-6800H, 16GB DDR5, 1TB SSD, NVIDIA RTX 3070 Ti (8GB GDDR6), 15.6\" (39.62Cm) FHD WVA AG, 165 Hz 300 nits, Win 11+ MSO\\'21, Phantom Grey, 15 Month McAfee, 2.51Kg', '(Renewed) DELL Latitude 5490 Core i5 8th Gen Laptop, 16 GB RAM, 512GB SSD, Intel HD Graphics, 14 inch (36.83 cms) HD Screen, Windows 11 (Upgraded), MS Office, Black, Slim', 'Dell Inspiron 7430 2in1 Touch Laptop, 13th Gen Intel Core i3-1315U/8GB/1TB SSD/14.0\" (35.56cm) FHD+,16:10 Aspect Ratio/Backlit KB+FPR/Win 11+MSO\\'21/15 Months McAfee/Platinum Silver/Thin & Light-1.58kg', 'Dell G15-5520 Gaming Laptop, Intel i5-12500H/8GB DDR5/512GB SSD/Win 11 + MSO\\'21/NVIDIA RTX 3050 (4GB GDDR6)/15.6\" (39.62cm) FHD WVA AG 120Hz 250 nits/Backlit KB Orange/Dark Shadow Grey/2.81kg', 'Dell 14, Intel 12th Gen i5-1235U Laptop/8GB/512GB SSD/14.0\" (35.56cm) FHD TÃœV Rheinland Certified Comfortview to Reduce Harmful Blue Light Emission/Windows 11 + MSO\\'21/Black/15 Month McAfee,1.48kg', 'Dell Inspiron 5430 Laptop, 13th Gen Intel Core i5-1335U Processor/16GB/1TB SSD/14.0\" (35.56CM) FHD+ WVA 250 nits/Backlit KB + FPR/Win 11+MSO\\'21/15 Month McAfee/Platinum Silver/Thin & Light- 1.59KG', 'Dell Inspiron 3535 Laptop, AMD 7 Series Ryzen 5-7520U Processor/8GB/512GB/15.6\" (39.62cm) FHD WVA AG 120Hz 250 nits Display/Win 11 + MSO\\'21/15 Month McAfee/Platinum Silver/1.63kg', 'Dell G15-5520 Gaming Laptop, Intel i5-12500H/8GB DDR5/512GB SSD/Win 11 + MSO\\'21/NVIDIA RTX 3050 (4GB GDDR6)/15.6\" (39.62cm) FHD WVA AG 120Hz 250 nits/Backlit KB Orange/Dark Shadow Grey/2.81kg', 'Dell Inspiron 3530 Laptop, Intel Core i7-1355U Processor, 16GB, 512GB, 15.6\" (39.62cm) FHD WVA AG 120Hz, Backlit KB + FPR, Win 11 + MSO\\'21, 15 Month McAfee, Silver, 1.62kg', 'Dell New 14\" Latitude 3420- i3 11th Gen || 8 GB || 512 GB SSD || 14\" Full HD 1920 x 1080 Pixels || Ubuntu-Dos || 1 Year Onsite with ADP Warranty', 'Dell 14 Laptop, 13th Gen Intel Core i5-1335U Processor/ 8GB/ 512GB SSD/ 14.0\" (35.56cm) FHD/Windows 11 + MSO\\'21/15 Month McAfee/Spill-Resistant Keyboard/Carbon Black/Thin & Light- 1.46kg', 'Dell 14 Laptop, AMD Ryzen 5-5500U/ 8GB- 2 DIMM Slots (Expandable to 16GB)/ 512GB/ 14.0\" (35.56cm) FHD Display 250 Nits/Windows 11 + MSO\\'21/15 Month McAfee/AMD Radeon Graphics/Black/Thin & Light-1.48kg', 'Dell G15 5530 Gaming Laptop, Intel i7-13650HX/16GB/1TB SSD/NVIDIA RTX 3050, 6 GB GDDR6/15.6\" (39.62cm) FHD AG 120Hz 250 nits/Backlit KB RGB/Dark Shadow Grey/Win 11+MSO\\'21/15 Month McAfee/2.65kg', 'Dell Inspiron 3520 Laptop, Intel Core i3-1215U Processor, 8GB & 256GB SSD, 15.6\" (39.62Cm) FHD WVA AG 120Hz 250 nits, Win 11 + MSO\\'21, Carbon Black, 15 Months McAfee, Thin & Light- 1.65KG', 'Dell Inspiron 3520 Laptop,12th Gen Intel Core i3-1215 Processor, 8GB, 512GB SSD, 15.6\" (39.62Cms FHD, Win 11 + MSO\\'21, Silver, 15 Month McAfee Antivirus, Thin & Light-1.65kg', 'Dell XPS 9315 Laptop, Intel Evo Platform Powered by Intel Core i7-1250U Processor, 16GB LPDDR5, 512Gb SSD, 13.4\" (34.03cm) FHD+ AG 500 nits, Backlit KB & FPR, Win 11 + MSO\\'21, Sky Color, 1.17Kgs', 'Dell Inspiron 5430 13th Gen Laptop, Intel Core i5-1335U Processor/16GB/ 512GB SSD/14.0\" (35.56cm) FHD+/Backlit KB + FPR/Win 11 + MSO\\'2/McAfee 15 Months/Silver/Thunderbolt 4.0 Port/Thin & Light-1.59kg', 'Dell Inspiron 3530 Laptop, 13th Gen Intel Core i5-1335U Processor/8GB/1TB SSD/15.6\" (39.62cm) FHD/Backlit Keyboard/Silver/Win 11 + MSO\\'21/15 Month McAfee/Thin & Light-1.66kg']\n",
      "30\n"
     ]
    }
   ],
   "source": [
    "laptop_names=[i.text for i in names]\n",
    "print(laptop_names)\n",
    "print(len(laptop_names))"
   ]
  },
  {
   "cell_type": "code",
   "execution_count": 100,
   "id": "53a20442",
   "metadata": {},
   "outputs": [],
   "source": [
    "prices=driver.find_elements(By.XPATH,\".//span[@class='a-price-whole']\")"
   ]
  },
  {
   "cell_type": "code",
   "execution_count": 101,
   "id": "8c09a15c",
   "metadata": {},
   "outputs": [
    {
     "name": "stdout",
     "output_type": "stream",
     "text": [
      "['34,990', '33,990', '35,990', '47,990', '49,990', '35,990', '35,990', '55,280', '34,990', '57,990', '44,990', '49,990', '44,990', '67,490', '82,990', '1,08,599', '23,649', '57,990', '64,990', '46,990', '71,290', '38,990', '64,990', '71,490', '30,630', '56,990', '37,817', '99,990', '34,380', '37,990', '1,19,490', '68,990', '60,899']\n",
      "33\n"
     ]
    }
   ],
   "source": [
    "laptop_prices=[i.text for i in prices]\n",
    "print(laptop_prices)\n",
    "print(len(laptop_prices))"
   ]
  },
  {
   "cell_type": "code",
   "execution_count": 102,
   "id": "34d9a0f7",
   "metadata": {},
   "outputs": [
    {
     "name": "stdout",
     "output_type": "stream",
     "text": [
      "['47,990', '49,990', '35,990', '35,990', '55,280', '34,990', '57,990', '44,990', '49,990', '44,990', '67,490', '82,990', '1,08,599', '23,649', '57,990', '64,990', '46,990', '71,290', '38,990', '64,990', '71,490', '30,630', '56,990', '37,817', '99,990', '34,380', '37,990', '1,19,490', '68,990', '60,899']\n",
      "30\n"
     ]
    }
   ],
   "source": [
    "laptop_prices.pop(0)\n",
    "laptop_prices.pop(0)\n",
    "laptop_prices.pop(0)\n",
    "print(laptop_prices)\n",
    "print(len(laptop_prices))"
   ]
  },
  {
   "cell_type": "code",
   "execution_count": 105,
   "id": "3f0dac61",
   "metadata": {},
   "outputs": [],
   "source": [
    "reviews=driver.find_elements(By.XPATH,\".//span[@class='a-size-base s-underline-text']\")"
   ]
  },
  {
   "cell_type": "code",
   "execution_count": 106,
   "id": "420c2489",
   "metadata": {},
   "outputs": [
    {
     "name": "stdout",
     "output_type": "stream",
     "text": [
      "['607', '72', '4', '239', '2', '631', '179', '607', '72', '2', '13', '27', '5', '506', '179', '517', '138', '82', '4', '517', '1', '1', '34', '151', '195', '186', '82', '13']\n",
      "28\n"
     ]
    }
   ],
   "source": [
    "l_reviews=[i.text for i in reviews]\n",
    "print(l_reviews)\n",
    "print(len(l_reviews))"
   ]
  },
  {
   "cell_type": "code",
   "execution_count": 125,
   "id": "bf0c9ea6",
   "metadata": {},
   "outputs": [],
   "source": [
    "l_reviews.insert(24,'No review')"
   ]
  },
  {
   "cell_type": "code",
   "execution_count": 126,
   "id": "2901949c",
   "metadata": {},
   "outputs": [
    {
     "name": "stdout",
     "output_type": "stream",
     "text": [
      "['607', '72', '4', '239', '2', '631', '179', '607', '72', '2', '13', '27', '5', '506', '179', '517', '138', '82', '4', '517', '1', '1', '34', '151', 'No review', '195', '186', '82', '13']\n"
     ]
    }
   ],
   "source": [
    "print(l_reviews)"
   ]
  },
  {
   "cell_type": "code",
   "execution_count": 127,
   "id": "4ce7ba40",
   "metadata": {},
   "outputs": [],
   "source": [
    "l_reviews.insert(27,\"No review\")"
   ]
  },
  {
   "cell_type": "code",
   "execution_count": 129,
   "id": "1e9321f6",
   "metadata": {},
   "outputs": [
    {
     "name": "stdout",
     "output_type": "stream",
     "text": [
      "['607', '72', '4', '239', '2', '631', '179', '607', '72', '2', '13', '27', '5', '506', '179', '517', '138', '82', '4', '517', '1', '1', '34', '151', 'No review', '195', '186', 'No review', '82', '13']\n",
      "30\n"
     ]
    }
   ],
   "source": [
    "print(l_reviews)\n",
    "print(len(l_reviews))"
   ]
  },
  {
   "cell_type": "code",
   "execution_count": 108,
   "id": "0e15120b",
   "metadata": {},
   "outputs": [],
   "source": [
    "import pandas as pd"
   ]
  },
  {
   "cell_type": "code",
   "execution_count": 118,
   "id": "ab519c0f",
   "metadata": {},
   "outputs": [],
   "source": [
    "headings=[\"name\",\"prices\",\"reviews\"]"
   ]
  },
  {
   "cell_type": "code",
   "execution_count": 130,
   "id": "a5ff4ab5",
   "metadata": {},
   "outputs": [],
   "source": [
    "df=pd.DataFrame(columns=headings)"
   ]
  },
  {
   "cell_type": "code",
   "execution_count": 131,
   "id": "76c6c0f1",
   "metadata": {},
   "outputs": [
    {
     "name": "stdout",
     "output_type": "stream",
     "text": [
      "Empty DataFrame\n",
      "Columns: [name, prices, reviews]\n",
      "Index: []\n"
     ]
    }
   ],
   "source": [
    "print(df)"
   ]
  },
  {
   "cell_type": "code",
   "execution_count": 132,
   "id": "0b08586f",
   "metadata": {},
   "outputs": [],
   "source": [
    "df[\"name\"]=laptop_names\n",
    "df[\"prices\"]=laptop_prices\n",
    "df[\"reviews\"]=l_reviews"
   ]
  },
  {
   "cell_type": "code",
   "execution_count": 133,
   "id": "d33b8caa",
   "metadata": {},
   "outputs": [
    {
     "data": {
      "text/html": [
       "<div>\n",
       "<style scoped>\n",
       "    .dataframe tbody tr th:only-of-type {\n",
       "        vertical-align: middle;\n",
       "    }\n",
       "\n",
       "    .dataframe tbody tr th {\n",
       "        vertical-align: top;\n",
       "    }\n",
       "\n",
       "    .dataframe thead th {\n",
       "        text-align: right;\n",
       "    }\n",
       "</style>\n",
       "<table border=\"1\" class=\"dataframe\">\n",
       "  <thead>\n",
       "    <tr style=\"text-align: right;\">\n",
       "      <th></th>\n",
       "      <th>name</th>\n",
       "      <th>prices</th>\n",
       "      <th>reviews</th>\n",
       "    </tr>\n",
       "  </thead>\n",
       "  <tbody>\n",
       "    <tr>\n",
       "      <th>0</th>\n",
       "      <td>Dell 15 Laptop, Intel Core i5-1135G7 Processor...</td>\n",
       "      <td>47,990</td>\n",
       "      <td>607</td>\n",
       "    </tr>\n",
       "    <tr>\n",
       "      <th>1</th>\n",
       "      <td>Dell 14 Laptop, 12th Gen Intel Core i5-1235U P...</td>\n",
       "      <td>49,990</td>\n",
       "      <td>72</td>\n",
       "    </tr>\n",
       "    <tr>\n",
       "      <th>2</th>\n",
       "      <td>Dell 14 Laptop, AMD Ryzen R5-5500U/ 8GB DDR4, ...</td>\n",
       "      <td>35,990</td>\n",
       "      <td>4</td>\n",
       "    </tr>\n",
       "    <tr>\n",
       "      <th>3</th>\n",
       "      <td>Dell 14 Laptop, 12th Gen Intel Core i3-1215U P...</td>\n",
       "      <td>35,990</td>\n",
       "      <td>239</td>\n",
       "    </tr>\n",
       "    <tr>\n",
       "      <th>4</th>\n",
       "      <td>Dell Inspiron 3520 Laptop, Intel Core i5-1235U...</td>\n",
       "      <td>55,280</td>\n",
       "      <td>2</td>\n",
       "    </tr>\n",
       "    <tr>\n",
       "      <th>5</th>\n",
       "      <td>Dell 15 Laptop, Intel Core i3-1115G4, 8GB/1TB ...</td>\n",
       "      <td>34,990</td>\n",
       "      <td>631</td>\n",
       "    </tr>\n",
       "    <tr>\n",
       "      <th>6</th>\n",
       "      <td>Dell Inspiron 7430 2in1 Touch Laptop, 13th Gen...</td>\n",
       "      <td>57,990</td>\n",
       "      <td>179</td>\n",
       "    </tr>\n",
       "    <tr>\n",
       "      <th>7</th>\n",
       "      <td>Dell 15 Laptop, Intel Core i5-1135G7 Processor...</td>\n",
       "      <td>44,990</td>\n",
       "      <td>607</td>\n",
       "    </tr>\n",
       "    <tr>\n",
       "      <th>8</th>\n",
       "      <td>Dell 14 Laptop, 12th Gen Intel Core i5-1235U P...</td>\n",
       "      <td>49,990</td>\n",
       "      <td>72</td>\n",
       "    </tr>\n",
       "    <tr>\n",
       "      <th>9</th>\n",
       "      <td>Dell 14 Laptop, Intel Core i5-1135G7 Processor...</td>\n",
       "      <td>44,990</td>\n",
       "      <td>2</td>\n",
       "    </tr>\n",
       "    <tr>\n",
       "      <th>10</th>\n",
       "      <td>Dell Inspiron 3530 Laptop, 13th Gen Intel Core...</td>\n",
       "      <td>67,490</td>\n",
       "      <td>13</td>\n",
       "    </tr>\n",
       "    <tr>\n",
       "      <th>11</th>\n",
       "      <td>Dell Inspiron 7430 2in1 Touch Laptop, Intel Co...</td>\n",
       "      <td>82,990</td>\n",
       "      <td>27</td>\n",
       "    </tr>\n",
       "    <tr>\n",
       "      <th>12</th>\n",
       "      <td>Dell G15-5525 Gaming Laptop, AMD Ryzen 7-6800H...</td>\n",
       "      <td>1,08,599</td>\n",
       "      <td>5</td>\n",
       "    </tr>\n",
       "    <tr>\n",
       "      <th>13</th>\n",
       "      <td>(Renewed) DELL Latitude 5490 Core i5 8th Gen L...</td>\n",
       "      <td>23,649</td>\n",
       "      <td>506</td>\n",
       "    </tr>\n",
       "    <tr>\n",
       "      <th>14</th>\n",
       "      <td>Dell Inspiron 7430 2in1 Touch Laptop, 13th Gen...</td>\n",
       "      <td>57,990</td>\n",
       "      <td>179</td>\n",
       "    </tr>\n",
       "    <tr>\n",
       "      <th>15</th>\n",
       "      <td>Dell G15-5520 Gaming Laptop, Intel i5-12500H/8...</td>\n",
       "      <td>64,990</td>\n",
       "      <td>517</td>\n",
       "    </tr>\n",
       "    <tr>\n",
       "      <th>16</th>\n",
       "      <td>Dell 14, Intel 12th Gen i5-1235U Laptop/8GB/51...</td>\n",
       "      <td>46,990</td>\n",
       "      <td>138</td>\n",
       "    </tr>\n",
       "    <tr>\n",
       "      <th>17</th>\n",
       "      <td>Dell Inspiron 5430 Laptop, 13th Gen Intel Core...</td>\n",
       "      <td>71,290</td>\n",
       "      <td>82</td>\n",
       "    </tr>\n",
       "    <tr>\n",
       "      <th>18</th>\n",
       "      <td>Dell Inspiron 3535 Laptop, AMD 7 Series Ryzen ...</td>\n",
       "      <td>38,990</td>\n",
       "      <td>4</td>\n",
       "    </tr>\n",
       "    <tr>\n",
       "      <th>19</th>\n",
       "      <td>Dell G15-5520 Gaming Laptop, Intel i5-12500H/8...</td>\n",
       "      <td>64,990</td>\n",
       "      <td>517</td>\n",
       "    </tr>\n",
       "    <tr>\n",
       "      <th>20</th>\n",
       "      <td>Dell Inspiron 3530 Laptop, Intel Core i7-1355U...</td>\n",
       "      <td>71,490</td>\n",
       "      <td>1</td>\n",
       "    </tr>\n",
       "    <tr>\n",
       "      <th>21</th>\n",
       "      <td>Dell New 14\" Latitude 3420- i3 11th Gen || 8 G...</td>\n",
       "      <td>30,630</td>\n",
       "      <td>1</td>\n",
       "    </tr>\n",
       "    <tr>\n",
       "      <th>22</th>\n",
       "      <td>Dell 14 Laptop, 13th Gen Intel Core i5-1335U P...</td>\n",
       "      <td>56,990</td>\n",
       "      <td>34</td>\n",
       "    </tr>\n",
       "    <tr>\n",
       "      <th>23</th>\n",
       "      <td>Dell 14 Laptop, AMD Ryzen 5-5500U/ 8GB- 2 DIMM...</td>\n",
       "      <td>37,817</td>\n",
       "      <td>151</td>\n",
       "    </tr>\n",
       "    <tr>\n",
       "      <th>24</th>\n",
       "      <td>Dell G15 5530 Gaming Laptop, Intel i7-13650HX/...</td>\n",
       "      <td>99,990</td>\n",
       "      <td>No review</td>\n",
       "    </tr>\n",
       "    <tr>\n",
       "      <th>25</th>\n",
       "      <td>Dell Inspiron 3520 Laptop, Intel Core i3-1215U...</td>\n",
       "      <td>34,380</td>\n",
       "      <td>195</td>\n",
       "    </tr>\n",
       "    <tr>\n",
       "      <th>26</th>\n",
       "      <td>Dell Inspiron 3520 Laptop,12th Gen Intel Core ...</td>\n",
       "      <td>37,990</td>\n",
       "      <td>186</td>\n",
       "    </tr>\n",
       "    <tr>\n",
       "      <th>27</th>\n",
       "      <td>Dell XPS 9315 Laptop, Intel Evo Platform Power...</td>\n",
       "      <td>1,19,490</td>\n",
       "      <td>No review</td>\n",
       "    </tr>\n",
       "    <tr>\n",
       "      <th>28</th>\n",
       "      <td>Dell Inspiron 5430 13th Gen Laptop, Intel Core...</td>\n",
       "      <td>68,990</td>\n",
       "      <td>82</td>\n",
       "    </tr>\n",
       "    <tr>\n",
       "      <th>29</th>\n",
       "      <td>Dell Inspiron 3530 Laptop, 13th Gen Intel Core...</td>\n",
       "      <td>60,899</td>\n",
       "      <td>13</td>\n",
       "    </tr>\n",
       "  </tbody>\n",
       "</table>\n",
       "</div>"
      ],
      "text/plain": [
       "                                                 name    prices    reviews\n",
       "0   Dell 15 Laptop, Intel Core i5-1135G7 Processor...    47,990        607\n",
       "1   Dell 14 Laptop, 12th Gen Intel Core i5-1235U P...    49,990         72\n",
       "2   Dell 14 Laptop, AMD Ryzen R5-5500U/ 8GB DDR4, ...    35,990          4\n",
       "3   Dell 14 Laptop, 12th Gen Intel Core i3-1215U P...    35,990        239\n",
       "4   Dell Inspiron 3520 Laptop, Intel Core i5-1235U...    55,280          2\n",
       "5   Dell 15 Laptop, Intel Core i3-1115G4, 8GB/1TB ...    34,990        631\n",
       "6   Dell Inspiron 7430 2in1 Touch Laptop, 13th Gen...    57,990        179\n",
       "7   Dell 15 Laptop, Intel Core i5-1135G7 Processor...    44,990        607\n",
       "8   Dell 14 Laptop, 12th Gen Intel Core i5-1235U P...    49,990         72\n",
       "9   Dell 14 Laptop, Intel Core i5-1135G7 Processor...    44,990          2\n",
       "10  Dell Inspiron 3530 Laptop, 13th Gen Intel Core...    67,490         13\n",
       "11  Dell Inspiron 7430 2in1 Touch Laptop, Intel Co...    82,990         27\n",
       "12  Dell G15-5525 Gaming Laptop, AMD Ryzen 7-6800H...  1,08,599          5\n",
       "13  (Renewed) DELL Latitude 5490 Core i5 8th Gen L...    23,649        506\n",
       "14  Dell Inspiron 7430 2in1 Touch Laptop, 13th Gen...    57,990        179\n",
       "15  Dell G15-5520 Gaming Laptop, Intel i5-12500H/8...    64,990        517\n",
       "16  Dell 14, Intel 12th Gen i5-1235U Laptop/8GB/51...    46,990        138\n",
       "17  Dell Inspiron 5430 Laptop, 13th Gen Intel Core...    71,290         82\n",
       "18  Dell Inspiron 3535 Laptop, AMD 7 Series Ryzen ...    38,990          4\n",
       "19  Dell G15-5520 Gaming Laptop, Intel i5-12500H/8...    64,990        517\n",
       "20  Dell Inspiron 3530 Laptop, Intel Core i7-1355U...    71,490          1\n",
       "21  Dell New 14\" Latitude 3420- i3 11th Gen || 8 G...    30,630          1\n",
       "22  Dell 14 Laptop, 13th Gen Intel Core i5-1335U P...    56,990         34\n",
       "23  Dell 14 Laptop, AMD Ryzen 5-5500U/ 8GB- 2 DIMM...    37,817        151\n",
       "24  Dell G15 5530 Gaming Laptop, Intel i7-13650HX/...    99,990  No review\n",
       "25  Dell Inspiron 3520 Laptop, Intel Core i3-1215U...    34,380        195\n",
       "26  Dell Inspiron 3520 Laptop,12th Gen Intel Core ...    37,990        186\n",
       "27  Dell XPS 9315 Laptop, Intel Evo Platform Power...  1,19,490  No review\n",
       "28  Dell Inspiron 5430 13th Gen Laptop, Intel Core...    68,990         82\n",
       "29  Dell Inspiron 3530 Laptop, 13th Gen Intel Core...    60,899         13"
      ]
     },
     "execution_count": 133,
     "metadata": {},
     "output_type": "execute_result"
    }
   ],
   "source": [
    "df"
   ]
  },
  {
   "cell_type": "code",
   "execution_count": 134,
   "id": "dcefbf4b",
   "metadata": {},
   "outputs": [],
   "source": [
    "df.to_csv(\"Dell_data_csv\")"
   ]
  },
  {
   "cell_type": "code",
   "execution_count": null,
   "id": "f95de68a",
   "metadata": {},
   "outputs": [],
   "source": []
  }
 ],
 "metadata": {
  "kernelspec": {
   "display_name": "Python 3 (ipykernel)",
   "language": "python",
   "name": "python3"
  },
  "language_info": {
   "codemirror_mode": {
    "name": "ipython",
    "version": 3
   },
   "file_extension": ".py",
   "mimetype": "text/x-python",
   "name": "python",
   "nbconvert_exporter": "python",
   "pygments_lexer": "ipython3",
   "version": "3.11.5"
  }
 },
 "nbformat": 4,
 "nbformat_minor": 5
}
